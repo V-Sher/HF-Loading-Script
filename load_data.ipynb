{
 "cells": [
  {
   "cell_type": "code",
   "execution_count": null,
   "metadata": {},
   "outputs": [],
   "source": [
    "import os\n",
    "import librosa\n",
    "from datasets import load_dataset, DatasetDict"
   ]
  },
  {
   "cell_type": "markdown",
   "metadata": {},
   "source": [
    "## Load dataset"
   ]
  },
  {
   "cell_type": "code",
   "execution_count": null,
   "metadata": {},
   "outputs": [],
   "source": [
    "dataset_config = {\n",
    "  \"LOADING_SCRIPT_FILES\":  \"crema.py\",\n",
    "  \"CONFIG_NAME\": \"clean\",\n",
    "  \"DATA_DIR\": \"data/archive.zip\",\n",
    "  \"CACHE_DIR\": \"cache_crema\",\n",
    "}\n",
    "ds = load_dataset(\n",
    "  dataset_config[\"LOADING_SCRIPT_FILES\"],\n",
    "  dataset_config[\"CONFIG_NAME\"],\n",
    "  data_dir=dataset_config[\"DATA_DIR\"],\n",
    "  cache_dir=dataset_config[\"CACHE_DIR\"]\n",
    ")"
   ]
  },
  {
   "cell_type": "markdown",
   "metadata": {},
   "source": [
    "## Train test split"
   ]
  },
  {
   "cell_type": "code",
   "execution_count": null,
   "metadata": {},
   "outputs": [],
   "source": [
    "# INTRODUCE TRAIN TEST VAL SPLITS\n",
    "# 90% train, 10% test + validation\n",
    "train_testvalid = ds[\"train\"].train_test_split(shuffle=True, test_size=0.1)\n",
    "# Split the 10% test + valid in half test, half valid\n",
    "test_valid = train_testvalid[\"test\"].train_test_split(test_size=0.5)\n",
    "# gather everything into a single DatasetDict\n",
    "ds = DatasetDict({\n",
    "     \"train\": train_testvalid[\"train\"],\n",
    "     \"test\": test_valid[\"test\"],\n",
    "     \"val\": test_valid[\"train\"],\n",
    "      }\n",
    ")"
   ]
  },
  {
   "cell_type": "markdown",
   "metadata": {},
   "source": [
    "## Convert raw audio into arrays"
   ]
  },
  {
   "cell_type": "code",
   "execution_count": null,
   "metadata": {},
   "outputs": [],
   "source": [
    "# CONVERING RAW AUDIO TO ARRAYS\n",
    "ds = ds.map( lambda x: {\n",
    "        \"array\": librosa.load(x[\"file\"],\n",
    "         sr=16000,\n",
    "         mono=False)[0]\n",
    "          }\n",
    ")"
   ]
  },
  {
   "cell_type": "markdown",
   "metadata": {},
   "source": [
    "## Convert label into ids"
   ]
  },
  {
   "cell_type": "code",
   "execution_count": null,
   "metadata": {},
   "outputs": [],
   "source": [
    "ds = ds.class_encode_column(\"label\")"
   ]
  },
  {
   "cell_type": "markdown",
   "metadata": {},
   "source": [
    "# Selecting subset of dataset"
   ]
  },
  {
   "cell_type": "code",
   "execution_count": null,
   "metadata": {},
   "outputs": [],
   "source": [
    "ds[\"train\"] = ds[\"train\"].select(range(50))"
   ]
  }
 ],
 "metadata": {
  "kernelspec": {
   "display_name": "Python 3.9.5 ('vld_env')",
   "language": "python",
   "name": "python3"
  },
  "language_info": {
   "name": "python",
   "version": "3.9.5"
  },
  "orig_nbformat": 4,
  "vscode": {
   "interpreter": {
    "hash": "cc71827b58dfe9f5de15a5c2b46790ff0de2066e62e20d4cd464f947f0a30a99"
   }
  }
 },
 "nbformat": 4,
 "nbformat_minor": 2
}
